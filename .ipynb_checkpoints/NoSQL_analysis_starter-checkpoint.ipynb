{
 "cells": [
  {
   "cell_type": "markdown",
   "id": "9a57c4c6",
   "metadata": {},
   "source": [
    "# Eat Safe, Love"
   ]
  },
  {
   "cell_type": "markdown",
   "id": "064ef857",
   "metadata": {},
   "source": [
    "## Notebook Set Up"
   ]
  },
  {
   "cell_type": "code",
   "execution_count": 1,
   "id": "3ecdd008",
   "metadata": {},
   "outputs": [],
   "source": [
    "# Import dependencies\n",
    "from pymongo import MongoClient\n",
    "from pprint import pprint\n",
    "import pandas as pd"
   ]
  },
  {
   "cell_type": "code",
   "execution_count": 2,
   "id": "59390c4a",
   "metadata": {},
   "outputs": [],
   "source": [
    "# Create an instance of MongoClient\n",
    "mongo = MongoClient(port=27017)"
   ]
  },
  {
   "cell_type": "code",
   "execution_count": 3,
   "id": "71e373c1",
   "metadata": {},
   "outputs": [],
   "source": [
    "# assign the uk_food database to a variable name\n",
    "db = mongo['uk_food']"
   ]
  },
  {
   "cell_type": "code",
   "execution_count": 4,
   "id": "23da0737",
   "metadata": {},
   "outputs": [
    {
     "data": {
      "text/plain": [
       "['establishments']"
      ]
     },
     "execution_count": 4,
     "metadata": {},
     "output_type": "execute_result"
    }
   ],
   "source": [
    "# review the collections in our database\n",
    "collections = db.list_collection_names()\n",
    "collections"
   ]
  },
  {
   "cell_type": "code",
   "execution_count": 5,
   "id": "11c9f11b",
   "metadata": {},
   "outputs": [],
   "source": [
    "# assign the collection to a variable\n",
    "establishments = db['establishments']"
   ]
  },
  {
   "cell_type": "markdown",
   "id": "d5671434",
   "metadata": {},
   "source": [
    "## Part 3: Exploratory Analysis\n",
    "Unless otherwise stated, for each question: \n",
    "* Use `count_documents` to display the number of documents contained in the result.\n",
    "* Display the first document in the results using `pprint`.\n",
    "* Convert the result to a Pandas DataFrame, print the number of rows in the DataFrame, and display the first 10 rows."
   ]
  },
  {
   "cell_type": "markdown",
   "id": "314bd884",
   "metadata": {},
   "source": [
    "### 1. Which establishments have a hygiene score equal to 20?"
   ]
  },
  {
   "cell_type": "code",
   "execution_count": 6,
   "id": "7d10c0a7",
   "metadata": {},
   "outputs": [
    {
     "name": "stdout",
     "output_type": "stream",
     "text": [
      "Number of establishments with a hygiene score of 20: 369\n",
      "{'AddressLine1': '5-6 Southfields Road',\n",
      " 'AddressLine2': 'Eastbourne',\n",
      " 'AddressLine3': 'East Sussex',\n",
      " 'AddressLine4': '',\n",
      " 'BusinessName': 'The Chase Rest Home',\n",
      " 'BusinessType': 'Caring Premises',\n",
      " 'BusinessTypeID': 5,\n",
      " 'ChangesByServerID': 0,\n",
      " 'Distance': 4613.888288172291,\n",
      " 'FHRSID': 110681,\n",
      " 'LocalAuthorityBusinessID': '4029',\n",
      " 'LocalAuthorityCode': '102',\n",
      " 'LocalAuthorityEmailAddress': 'Customerfirst@eastbourne.gov.uk',\n",
      " 'LocalAuthorityName': 'Eastbourne',\n",
      " 'LocalAuthorityWebSite': 'http://www.eastbourne.gov.uk/foodratings',\n",
      " 'NewRatingPending': False,\n",
      " 'Phone': '',\n",
      " 'PostCode': 'BN21 1BU',\n",
      " 'RatingDate': '2021-09-23T00:00:00',\n",
      " 'RatingKey': 'fhrs_0_en-gb',\n",
      " 'RatingValue': 0,\n",
      " 'RightToReply': '',\n",
      " 'SchemeType': 'FHRS',\n",
      " '_id': ObjectId('65639bd1d0e6c8b0510d043c'),\n",
      " 'geocode': {'latitude': Decimal128('50.769705'),\n",
      "             'longitude': Decimal128('0.27694')},\n",
      " 'links': [{'href': 'https://api.ratings.food.gov.uk/establishments/110681',\n",
      "            'rel': 'self'}],\n",
      " 'meta': {'dataSource': None,\n",
      "          'extractDate': '0001-01-01T00:00:00',\n",
      "          'itemCount': 0,\n",
      "          'pageNumber': 0,\n",
      "          'pageSize': 0,\n",
      "          'returncode': None,\n",
      "          'totalCount': 0,\n",
      "          'totalPages': 0},\n",
      " 'scores': {'ConfidenceInManagement': 20, 'Hygiene': 20, 'Structural': 20}}\n"
     ]
    }
   ],
   "source": [
    "# Define the query to find establishments with a hygiene score of 20\n",
    "query = {\"scores.Hygiene\": 20}\n",
    "\n",
    "# Use count_documents to display the number of documents in the result\n",
    "count = establishments.count_documents(query)\n",
    "print(f\"Number of establishments with a hygiene score of 20: {count}\")\n",
    "\n",
    "# Display the first document in the results using pprint\n",
    "result = establishments.find_one(query)\n",
    "pprint(result)"
   ]
  },
  {
   "cell_type": "code",
   "execution_count": 7,
   "id": "3fbc52ce",
   "metadata": {
    "scrolled": true
   },
   "outputs": [
    {
     "name": "stdout",
     "output_type": "stream",
     "text": [
      "Number of rows in the DataFrame: 1\n",
      "First 10 rows of the DataFrame:\n",
      "                     _id  FHRSID  ChangesByServerID LocalAuthorityBusinessID        BusinessName    BusinessType  BusinessTypeID         AddressLine1 AddressLine2 AddressLine3 AddressLine4 PostCode Phone  RatingValue    RatingKey          RatingDate LocalAuthorityCode LocalAuthorityName                    LocalAuthorityWebSite      LocalAuthorityEmailAddress                                                          scores SchemeType                                       geocode RightToReply    Distance  NewRatingPending                                                                                                                                                             meta                                                                              links\n",
      "65639bd1d0e6c8b0510d043c  110681                  0                     4029 The Chase Rest Home Caring Premises               5 5-6 Southfields Road   Eastbourne  East Sussex              BN21 1BU                  0 fhrs_0_en-gb 2021-09-23T00:00:00                102         Eastbourne http://www.eastbourne.gov.uk/foodratings Customerfirst@eastbourne.gov.uk {'Hygiene': 20, 'Structural': 20, 'ConfidenceInManagement': 20}       FHRS {'longitude': 0.27694, 'latitude': 50.769705}              4613.888288             False {'dataSource': None, 'extractDate': '0001-01-01T00:00:00', 'itemCount': 0, 'returncode': None, 'totalCount': 0, 'totalPages': 0, 'pageSize': 0, 'pageNumber': 0} [{'rel': 'self', 'href': 'https://api.ratings.food.gov.uk/establishments/110681'}]\n"
     ]
    }
   ],
   "source": [
    "# Convert the result to a Pandas DataFrame\n",
    "df = pd.DataFrame([result])\n",
    "\n",
    "# Display the number of rows in the DataFrame\n",
    "num_rows = len(df)\n",
    "print(f\"Number of rows in the DataFrame: {num_rows}\")\n",
    "\n",
    "# Display the first 10 rows of the DataFrame with a prettier format\n",
    "print(\"First 10 rows of the DataFrame:\")\n",
    "print(df.head(10).to_string(index=False))"
   ]
  },
  {
   "cell_type": "markdown",
   "id": "0ef4395a",
   "metadata": {},
   "source": [
    "### 2. Which establishments in London have a `RatingValue` greater than or equal to 4?"
   ]
  },
  {
   "cell_type": "code",
   "execution_count": 8,
   "id": "6e55eb05",
   "metadata": {},
   "outputs": [
    {
     "name": "stdout",
     "output_type": "stream",
     "text": [
      "None\n"
     ]
    }
   ],
   "source": [
    "# Find the establishments in London with a RatingValue greater than or equal to 4\n",
    "query = {\n",
    "    \"LocalAuthorityName\": \"London\",\n",
    "    \"RatingValue\": {\"$gte\": 4}\n",
    "}\n",
    "\n",
    "# Use count_documents to display the number of documents in the result\n",
    "count = establishments.count_documents(query)\n",
    "count\n",
    "\n",
    "# Display the first document in the results using pprint\n",
    "first_document = establishments.find_one(query)\n",
    "pprint(first_document)"
   ]
  },
  {
   "cell_type": "code",
   "execution_count": 9,
   "id": "4007040a",
   "metadata": {},
   "outputs": [
    {
     "data": {
      "text/html": [
       "<div>\n",
       "<style scoped>\n",
       "    .dataframe tbody tr th:only-of-type {\n",
       "        vertical-align: middle;\n",
       "    }\n",
       "\n",
       "    .dataframe tbody tr th {\n",
       "        vertical-align: top;\n",
       "    }\n",
       "\n",
       "    .dataframe thead th {\n",
       "        text-align: right;\n",
       "    }\n",
       "</style>\n",
       "<table border=\"1\" class=\"dataframe\">\n",
       "  <thead>\n",
       "    <tr style=\"text-align: right;\">\n",
       "      <th></th>\n",
       "    </tr>\n",
       "  </thead>\n",
       "  <tbody>\n",
       "  </tbody>\n",
       "</table>\n",
       "</div>"
      ],
      "text/plain": [
       "Empty DataFrame\n",
       "Columns: []\n",
       "Index: []"
      ]
     },
     "execution_count": 9,
     "metadata": {},
     "output_type": "execute_result"
    }
   ],
   "source": [
    "# Convert the list of dictionaries to a DataFrame\n",
    "result_list = list(establishments.find(query))\n",
    "df = pd.DataFrame(result_list)\n",
    "\n",
    "# Display the number of rows in the DataFrame\n",
    "num_rows = len(df)\n",
    "num_rows\n",
    "\n",
    "# Display the first 10 rows of the DataFrame\n",
    "first_10_rows = df.head(10)\n",
    "first_10_rows"
   ]
  },
  {
   "cell_type": "markdown",
   "id": "4e570caf",
   "metadata": {},
   "source": [
    "### 3. What are the top 5 establishments with a `RatingValue` rating value of 5, sorted by lowest hygiene score, nearest to the new restaurant added, \"Penang Flavours\"?"
   ]
  },
  {
   "cell_type": "code",
   "execution_count": 10,
   "id": "d1efefe9",
   "metadata": {},
   "outputs": [
    {
     "data": {
      "text/html": [
       "<div>\n",
       "<style scoped>\n",
       "    .dataframe tbody tr th:only-of-type {\n",
       "        vertical-align: middle;\n",
       "    }\n",
       "\n",
       "    .dataframe tbody tr th {\n",
       "        vertical-align: top;\n",
       "    }\n",
       "\n",
       "    .dataframe thead th {\n",
       "        text-align: right;\n",
       "    }\n",
       "</style>\n",
       "<table border=\"1\" class=\"dataframe\">\n",
       "  <thead>\n",
       "    <tr style=\"text-align: right;\">\n",
       "      <th></th>\n",
       "      <th>_id</th>\n",
       "      <th>FHRSID</th>\n",
       "      <th>ChangesByServerID</th>\n",
       "      <th>LocalAuthorityBusinessID</th>\n",
       "      <th>BusinessName</th>\n",
       "      <th>BusinessType</th>\n",
       "      <th>BusinessTypeID</th>\n",
       "      <th>AddressLine1</th>\n",
       "      <th>AddressLine2</th>\n",
       "      <th>AddressLine3</th>\n",
       "      <th>...</th>\n",
       "      <th>LocalAuthorityWebSite</th>\n",
       "      <th>LocalAuthorityEmailAddress</th>\n",
       "      <th>scores</th>\n",
       "      <th>SchemeType</th>\n",
       "      <th>geocode</th>\n",
       "      <th>RightToReply</th>\n",
       "      <th>Distance</th>\n",
       "      <th>NewRatingPending</th>\n",
       "      <th>meta</th>\n",
       "      <th>links</th>\n",
       "    </tr>\n",
       "  </thead>\n",
       "  <tbody>\n",
       "    <tr>\n",
       "      <th>0</th>\n",
       "      <td>65639bd8d0e6c8b0510d5c6d</td>\n",
       "      <td>1380578</td>\n",
       "      <td>0</td>\n",
       "      <td>14425</td>\n",
       "      <td>Howe and Co Fish and Chips - Van 17</td>\n",
       "      <td>Mobile caterer</td>\n",
       "      <td>7846</td>\n",
       "      <td>Restaurant And Premises 107A Plumstead High St...</td>\n",
       "      <td></td>\n",
       "      <td>Plumstead</td>\n",
       "      <td>...</td>\n",
       "      <td>http://www.royalgreenwich.gov.uk</td>\n",
       "      <td>health@royalgreenwich.gov.uk</td>\n",
       "      <td>{'Hygiene': 0, 'Structural': 0, 'ConfidenceInM...</td>\n",
       "      <td>FHRS</td>\n",
       "      <td>{'longitude': 0.0925370007753372, 'latitude': ...</td>\n",
       "      <td></td>\n",
       "      <td>4646.955931</td>\n",
       "      <td>False</td>\n",
       "      <td>{'dataSource': None, 'extractDate': '0001-01-0...</td>\n",
       "      <td>[{'rel': 'self', 'href': 'http://api.ratings.f...</td>\n",
       "    </tr>\n",
       "    <tr>\n",
       "      <th>1</th>\n",
       "      <td>65639bd8d0e6c8b0510d5c8c</td>\n",
       "      <td>694609</td>\n",
       "      <td>0</td>\n",
       "      <td>PI/000116619</td>\n",
       "      <td>Volunteer</td>\n",
       "      <td>Pub/bar/nightclub</td>\n",
       "      <td>7843</td>\n",
       "      <td>130 - 132 Plumstead High Street</td>\n",
       "      <td></td>\n",
       "      <td>Plumstead</td>\n",
       "      <td>...</td>\n",
       "      <td>http://www.royalgreenwich.gov.uk</td>\n",
       "      <td>health@royalgreenwich.gov.uk</td>\n",
       "      <td>{'Hygiene': 0, 'Structural': 0, 'ConfidenceInM...</td>\n",
       "      <td>FHRS</td>\n",
       "      <td>{'longitude': 0.09208, 'latitude': 51.4873437}</td>\n",
       "      <td></td>\n",
       "      <td>4646.965635</td>\n",
       "      <td>False</td>\n",
       "      <td>{'dataSource': None, 'extractDate': '0001-01-0...</td>\n",
       "      <td>[{'rel': 'self', 'href': 'http://api.ratings.f...</td>\n",
       "    </tr>\n",
       "    <tr>\n",
       "      <th>2</th>\n",
       "      <td>65639bd8d0e6c8b0510d5ca4</td>\n",
       "      <td>695223</td>\n",
       "      <td>0</td>\n",
       "      <td>PI/000178842</td>\n",
       "      <td>Iceland</td>\n",
       "      <td>Retailers - supermarkets/hypermarkets</td>\n",
       "      <td>7840</td>\n",
       "      <td>144 - 146 Plumstead High Street</td>\n",
       "      <td></td>\n",
       "      <td>Plumstead</td>\n",
       "      <td>...</td>\n",
       "      <td>http://www.royalgreenwich.gov.uk</td>\n",
       "      <td>health@royalgreenwich.gov.uk</td>\n",
       "      <td>{'Hygiene': 0, 'Structural': 5, 'ConfidenceInM...</td>\n",
       "      <td>FHRS</td>\n",
       "      <td>{'longitude': 0.0924199968576431, 'latitude': ...</td>\n",
       "      <td></td>\n",
       "      <td>4646.946071</td>\n",
       "      <td>False</td>\n",
       "      <td>{'dataSource': None, 'extractDate': '0001-01-0...</td>\n",
       "      <td>[{'rel': 'self', 'href': 'http://api.ratings.f...</td>\n",
       "    </tr>\n",
       "    <tr>\n",
       "      <th>3</th>\n",
       "      <td>65639bd8d0e6c8b0510d5ca9</td>\n",
       "      <td>909912</td>\n",
       "      <td>0</td>\n",
       "      <td>PI/000201100</td>\n",
       "      <td>Lumbini Grocery Ltd T/A Al-Iman</td>\n",
       "      <td>Retailers - other</td>\n",
       "      <td>4613</td>\n",
       "      <td>17 Lakedale Road</td>\n",
       "      <td></td>\n",
       "      <td>Plumstead</td>\n",
       "      <td>...</td>\n",
       "      <td>http://www.royalgreenwich.gov.uk</td>\n",
       "      <td>health@royalgreenwich.gov.uk</td>\n",
       "      <td>{'Hygiene': 0, 'Structural': 5, 'ConfidenceInM...</td>\n",
       "      <td>FHRS</td>\n",
       "      <td>{'longitude': 0.0916256, 'latitude': 51.4871632}</td>\n",
       "      <td></td>\n",
       "      <td>4646.975587</td>\n",
       "      <td>False</td>\n",
       "      <td>{'dataSource': None, 'extractDate': '0001-01-0...</td>\n",
       "      <td>[{'rel': 'self', 'href': 'http://api.ratings.f...</td>\n",
       "    </tr>\n",
       "    <tr>\n",
       "      <th>4</th>\n",
       "      <td>65639bd8d0e6c8b0510d5cac</td>\n",
       "      <td>694478</td>\n",
       "      <td>0</td>\n",
       "      <td>PI/000086506</td>\n",
       "      <td>Atlantic Fish Bar</td>\n",
       "      <td>Takeaway/sandwich shop</td>\n",
       "      <td>7844</td>\n",
       "      <td>35 Lakedale Road</td>\n",
       "      <td></td>\n",
       "      <td>Plumstead</td>\n",
       "      <td>...</td>\n",
       "      <td>http://www.royalgreenwich.gov.uk</td>\n",
       "      <td>health@royalgreenwich.gov.uk</td>\n",
       "      <td>{'Hygiene': 0, 'Structural': 0, 'ConfidenceInM...</td>\n",
       "      <td>FHRS</td>\n",
       "      <td>{'longitude': 0.0912164, 'latitude': 51.4867296}</td>\n",
       "      <td></td>\n",
       "      <td>4646.974612</td>\n",
       "      <td>False</td>\n",
       "      <td>{'dataSource': None, 'extractDate': '0001-01-0...</td>\n",
       "      <td>[{'rel': 'self', 'href': 'http://api.ratings.f...</td>\n",
       "    </tr>\n",
       "  </tbody>\n",
       "</table>\n",
       "<p>5 rows × 28 columns</p>\n",
       "</div>"
      ],
      "text/plain": [
       "                        _id   FHRSID  ChangesByServerID  \\\n",
       "0  65639bd8d0e6c8b0510d5c6d  1380578                  0   \n",
       "1  65639bd8d0e6c8b0510d5c8c   694609                  0   \n",
       "2  65639bd8d0e6c8b0510d5ca4   695223                  0   \n",
       "3  65639bd8d0e6c8b0510d5ca9   909912                  0   \n",
       "4  65639bd8d0e6c8b0510d5cac   694478                  0   \n",
       "\n",
       "  LocalAuthorityBusinessID                         BusinessName  \\\n",
       "0                    14425  Howe and Co Fish and Chips - Van 17   \n",
       "1             PI/000116619                            Volunteer   \n",
       "2             PI/000178842                              Iceland   \n",
       "3             PI/000201100      Lumbini Grocery Ltd T/A Al-Iman   \n",
       "4             PI/000086506                    Atlantic Fish Bar   \n",
       "\n",
       "                            BusinessType  BusinessTypeID  \\\n",
       "0                         Mobile caterer            7846   \n",
       "1                      Pub/bar/nightclub            7843   \n",
       "2  Retailers - supermarkets/hypermarkets            7840   \n",
       "3                      Retailers - other            4613   \n",
       "4                 Takeaway/sandwich shop            7844   \n",
       "\n",
       "                                        AddressLine1 AddressLine2  \\\n",
       "0  Restaurant And Premises 107A Plumstead High St...                \n",
       "1                    130 - 132 Plumstead High Street                \n",
       "2                    144 - 146 Plumstead High Street                \n",
       "3                                   17 Lakedale Road                \n",
       "4                                   35 Lakedale Road                \n",
       "\n",
       "  AddressLine3  ...             LocalAuthorityWebSite  \\\n",
       "0    Plumstead  ...  http://www.royalgreenwich.gov.uk   \n",
       "1    Plumstead  ...  http://www.royalgreenwich.gov.uk   \n",
       "2    Plumstead  ...  http://www.royalgreenwich.gov.uk   \n",
       "3    Plumstead  ...  http://www.royalgreenwich.gov.uk   \n",
       "4    Plumstead  ...  http://www.royalgreenwich.gov.uk   \n",
       "\n",
       "     LocalAuthorityEmailAddress  \\\n",
       "0  health@royalgreenwich.gov.uk   \n",
       "1  health@royalgreenwich.gov.uk   \n",
       "2  health@royalgreenwich.gov.uk   \n",
       "3  health@royalgreenwich.gov.uk   \n",
       "4  health@royalgreenwich.gov.uk   \n",
       "\n",
       "                                              scores  SchemeType  \\\n",
       "0  {'Hygiene': 0, 'Structural': 0, 'ConfidenceInM...        FHRS   \n",
       "1  {'Hygiene': 0, 'Structural': 0, 'ConfidenceInM...        FHRS   \n",
       "2  {'Hygiene': 0, 'Structural': 5, 'ConfidenceInM...        FHRS   \n",
       "3  {'Hygiene': 0, 'Structural': 5, 'ConfidenceInM...        FHRS   \n",
       "4  {'Hygiene': 0, 'Structural': 0, 'ConfidenceInM...        FHRS   \n",
       "\n",
       "                                             geocode RightToReply  \\\n",
       "0  {'longitude': 0.0925370007753372, 'latitude': ...                \n",
       "1     {'longitude': 0.09208, 'latitude': 51.4873437}                \n",
       "2  {'longitude': 0.0924199968576431, 'latitude': ...                \n",
       "3   {'longitude': 0.0916256, 'latitude': 51.4871632}                \n",
       "4   {'longitude': 0.0912164, 'latitude': 51.4867296}                \n",
       "\n",
       "      Distance NewRatingPending  \\\n",
       "0  4646.955931            False   \n",
       "1  4646.965635            False   \n",
       "2  4646.946071            False   \n",
       "3  4646.975587            False   \n",
       "4  4646.974612            False   \n",
       "\n",
       "                                                meta  \\\n",
       "0  {'dataSource': None, 'extractDate': '0001-01-0...   \n",
       "1  {'dataSource': None, 'extractDate': '0001-01-0...   \n",
       "2  {'dataSource': None, 'extractDate': '0001-01-0...   \n",
       "3  {'dataSource': None, 'extractDate': '0001-01-0...   \n",
       "4  {'dataSource': None, 'extractDate': '0001-01-0...   \n",
       "\n",
       "                                               links  \n",
       "0  [{'rel': 'self', 'href': 'http://api.ratings.f...  \n",
       "1  [{'rel': 'self', 'href': 'http://api.ratings.f...  \n",
       "2  [{'rel': 'self', 'href': 'http://api.ratings.f...  \n",
       "3  [{'rel': 'self', 'href': 'http://api.ratings.f...  \n",
       "4  [{'rel': 'self', 'href': 'http://api.ratings.f...  \n",
       "\n",
       "[5 rows x 28 columns]"
      ]
     },
     "execution_count": 10,
     "metadata": {},
     "output_type": "execute_result"
    }
   ],
   "source": [
    "# Define the latitude and longitude for \"Penang Flavours\"\n",
    "latitude_pf = 51.490142\n",
    "longitude_pf = 0.083840\n",
    "\n",
    "# Search within 0.01 degree on either side of the latitude and longitude.\n",
    "degree_search = 0.01\n",
    "\n",
    "# Define the query to filter establishments with RatingValue equal to 5\n",
    "query = {\n",
    "    \"RatingValue\": 5,\n",
    "    \"geocode.latitude\": {\n",
    "        \"$gte\": latitude_pf - degree_search,\n",
    "        \"$lte\": latitude_pf + degree_search\n",
    "    },\n",
    "    \"geocode.longitude\": {\n",
    "        \"$gte\": longitude_pf - degree_search,\n",
    "        \"$lte\": longitude_pf + degree_search\n",
    "    }\n",
    "}\n",
    "\n",
    "# Sort by hygiene score in ascending order (1 means ascending, -1 means descending)\n",
    "sort = [(\"scores.Hygiene\", 1)]\n",
    "\n",
    "# Find and fetch the results\n",
    "results = establishments.find(query).sort(sort)\n",
    "\n",
    "# Convert the results to a Pandas DataFrame\n",
    "result_list = list(results)\n",
    "df = pd.DataFrame(result_list)\n",
    "\n",
    "# Print the results\n",
    "df.head()"
   ]
  },
  {
   "cell_type": "code",
   "execution_count": 12,
   "id": "8790c198",
   "metadata": {},
   "outputs": [
    {
     "name": "stdout",
     "output_type": "stream",
     "text": [
      "Result has been converted to a DataFrame.\n"
     ]
    }
   ],
   "source": [
    "# Convert the result to a Pandas DataFrame\n",
    "df = pd.DataFrame\n",
    "\n",
    "# Confirm the conversion\n",
    "print(\"Result has been converted to a DataFrame.\")"
   ]
  },
  {
   "cell_type": "markdown",
   "id": "67281254",
   "metadata": {},
   "source": [
    "### 4. How many establishments in each Local Authority area have a hygiene score of 0?"
   ]
  },
  {
   "cell_type": "code",
   "execution_count": 13,
   "id": "4eeb227e",
   "metadata": {},
   "outputs": [
    {
     "name": "stdout",
     "output_type": "stream",
     "text": [
      "Number of documents in the result: 55\n",
      "First 10 results:\n",
      "[{'_id': 'Thanet', 'count': 10170},\n",
      " {'_id': 'Greenwich', 'count': 7938},\n",
      " {'_id': 'Maidstone', 'count': 6417},\n",
      " {'_id': 'Newham', 'count': 6399},\n",
      " {'_id': 'Swale', 'count': 6174},\n",
      " {'_id': 'Chelmsford', 'count': 6120},\n",
      " {'_id': 'Medway', 'count': 6048},\n",
      " {'_id': 'Bexley', 'count': 5463},\n",
      " {'_id': 'Southend-On-Sea', 'count': 5274},\n",
      " {'_id': 'Tendring', 'count': 4878}]\n"
     ]
    }
   ],
   "source": [
    "# Create a MongoClient instance\n",
    "client = MongoClient(port=27017)\n",
    "\n",
    "# Access the 'uk_food' database\n",
    "db = client['uk_food']\n",
    "\n",
    "# Access the 'establishments' collection\n",
    "establishments = db['establishments']\n",
    "\n",
    "# Define the aggregation pipeline\n",
    "pipeline = [\n",
    "    {\n",
    "        \"$match\": {\n",
    "            \"scores.Hygiene\": 0\n",
    "        }\n",
    "    },\n",
    "    {\n",
    "        \"$group\": {\n",
    "            \"_id\": \"$LocalAuthorityName\",\n",
    "            \"count\": {\"$sum\": 1}\n",
    "        }\n",
    "    },\n",
    "    {\n",
    "        \"$sort\": {\n",
    "            \"count\": -1\n",
    "        }\n",
    "    }\n",
    "]\n",
    "\n",
    "# Execute the aggregation pipeline\n",
    "result = list(establishments.aggregate(pipeline))\n",
    "\n",
    "# Print the number of documents in the result\n",
    "print(\"Number of documents in the result:\", len(result))\n",
    "\n",
    "# Print the first 10 results\n",
    "print(\"First 10 results:\")\n",
    "pprint(result[:10])"
   ]
  },
  {
   "cell_type": "code",
   "execution_count": 14,
   "id": "d8aab364",
   "metadata": {},
   "outputs": [
    {
     "name": "stdout",
     "output_type": "stream",
     "text": [
      "Number of rows in the DataFrame: 55\n",
      "First 10 rows of the DataFrame:\n",
      "               _id  count\n",
      "0           Thanet  10170\n",
      "1        Greenwich   7938\n",
      "2        Maidstone   6417\n",
      "3           Newham   6399\n",
      "4            Swale   6174\n",
      "5       Chelmsford   6120\n",
      "6           Medway   6048\n",
      "7           Bexley   5463\n",
      "8  Southend-On-Sea   5274\n",
      "9         Tendring   4878\n"
     ]
    }
   ],
   "source": [
    "# Convert the result to a Pandas DataFrame\n",
    "df = pd.DataFrame(result)\n",
    "\n",
    "# Display the number of rows in the DataFrame\n",
    "num_rows = len(df)\n",
    "print(f\"Number of rows in the DataFrame: {num_rows}\")\n",
    "\n",
    "# Display the first 10 rows of the DataFrame\n",
    "print(\"First 10 rows of the DataFrame:\")\n",
    "print(df.head(10))\n"
   ]
  }
 ],
 "metadata": {
  "kernelspec": {
   "display_name": "Python 3 (ipykernel)",
   "language": "python",
   "name": "python3"
  },
  "language_info": {
   "codemirror_mode": {
    "name": "ipython",
    "version": 3
   },
   "file_extension": ".py",
   "mimetype": "text/x-python",
   "name": "python",
   "nbconvert_exporter": "python",
   "pygments_lexer": "ipython3",
   "version": "3.11.4"
  }
 },
 "nbformat": 4,
 "nbformat_minor": 5
}
